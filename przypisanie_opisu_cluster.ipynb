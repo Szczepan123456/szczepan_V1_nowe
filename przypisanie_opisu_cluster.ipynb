{
 "cells": [
  {
   "cell_type": "markdown",
   "metadata": {},
   "source": [
    "# Tworzymy nazwane klastry\n",
    "\n",
    "W lekcji tej użyjemy LLM-ów do pomocy przy znalezieniu odpowiednich nazw i opisów dla klastrów."
   ]
  },
  {
   "cell_type": "code",
   "execution_count": 1,
   "metadata": {},
   "outputs": [],
   "source": [
    "import json\n",
    "import pandas as pd\n",
    "from openai import OpenAI\n",
    "from dotenv import dotenv_values\n",
    "from pycaret.clustering import predict_model, load_model"
   ]
  },
  {
   "cell_type": "code",
   "execution_count": 1,
   "metadata": {},
   "outputs": [
    {
     "name": "stdout",
     "output_type": "stream",
     "text": [
      "3.3.2\n"
     ]
    }
   ],
   "source": [
    "import pycaret\n",
    "print(pycaret.__version__)\n"
   ]
  },
  {
   "cell_type": "code",
   "execution_count": 2,
   "metadata": {},
   "outputs": [],
   "source": [
    "env = dotenv_values(\".env\")\n",
    "\n",
    "openai_client = OpenAI(api_key=env[\"OPENAI_API_KEY\"])"
   ]
  },
  {
   "cell_type": "markdown",
   "metadata": {},
   "source": [
    "ładujemy nasze dane"
   ]
  },
  {
   "cell_type": "code",
   "execution_count": 3,
   "metadata": {},
   "outputs": [
    {
     "data": {
      "text/html": [
       "<div>\n",
       "<style scoped>\n",
       "    .dataframe tbody tr th:only-of-type {\n",
       "        vertical-align: middle;\n",
       "    }\n",
       "\n",
       "    .dataframe tbody tr th {\n",
       "        vertical-align: top;\n",
       "    }\n",
       "\n",
       "    .dataframe thead th {\n",
       "        text-align: right;\n",
       "    }\n",
       "</style>\n",
       "<table border=\"1\" class=\"dataframe\">\n",
       "  <thead>\n",
       "    <tr style=\"text-align: right;\">\n",
       "      <th></th>\n",
       "      <th>age</th>\n",
       "      <th>edu_level</th>\n",
       "      <th>fav_animals</th>\n",
       "      <th>fav_place</th>\n",
       "      <th>gender</th>\n",
       "    </tr>\n",
       "  </thead>\n",
       "  <tbody>\n",
       "    <tr>\n",
       "      <th>0</th>\n",
       "      <td>&lt;18</td>\n",
       "      <td>Podstawowe</td>\n",
       "      <td>Brak ulubionych</td>\n",
       "      <td>NaN</td>\n",
       "      <td>Kobieta</td>\n",
       "    </tr>\n",
       "    <tr>\n",
       "      <th>1</th>\n",
       "      <td>25-34</td>\n",
       "      <td>Średnie</td>\n",
       "      <td>Psy</td>\n",
       "      <td>Nad wodą</td>\n",
       "      <td>Mężczyzna</td>\n",
       "    </tr>\n",
       "    <tr>\n",
       "      <th>2</th>\n",
       "      <td>45-54</td>\n",
       "      <td>Wyższe</td>\n",
       "      <td>Psy</td>\n",
       "      <td>W lesie</td>\n",
       "      <td>Mężczyzna</td>\n",
       "    </tr>\n",
       "    <tr>\n",
       "      <th>3</th>\n",
       "      <td>35-44</td>\n",
       "      <td>Średnie</td>\n",
       "      <td>Koty</td>\n",
       "      <td>W górach</td>\n",
       "      <td>Mężczyzna</td>\n",
       "    </tr>\n",
       "    <tr>\n",
       "      <th>4</th>\n",
       "      <td>35-44</td>\n",
       "      <td>Wyższe</td>\n",
       "      <td>Psy</td>\n",
       "      <td>Nad wodą</td>\n",
       "      <td>Mężczyzna</td>\n",
       "    </tr>\n",
       "  </tbody>\n",
       "</table>\n",
       "</div>"
      ],
      "text/plain": [
       "     age   edu_level      fav_animals fav_place     gender\n",
       "0    <18  Podstawowe  Brak ulubionych       NaN    Kobieta\n",
       "1  25-34     Średnie              Psy  Nad wodą  Mężczyzna\n",
       "2  45-54      Wyższe              Psy   W lesie  Mężczyzna\n",
       "3  35-44     Średnie             Koty  W górach  Mężczyzna\n",
       "4  35-44      Wyższe              Psy  Nad wodą  Mężczyzna"
      ]
     },
     "execution_count": 3,
     "metadata": {},
     "output_type": "execute_result"
    }
   ],
   "source": [
    "df = pd.read_csv('welcome_survey_simple_v2.csv', sep=';')\n",
    "df.head()"
   ]
  },
  {
   "cell_type": "markdown",
   "metadata": {},
   "source": [
    "ładujemy model wytrenowany w poprzedniej lekcji"
   ]
  },
  {
   "cell_type": "code",
   "execution_count": 5,
   "metadata": {},
   "outputs": [
    {
     "name": "stdout",
     "output_type": "stream",
     "text": [
      "Transformation Pipeline and Model Successfully Loaded\n"
     ]
    }
   ],
   "source": [
    "kmeans_pipeline = load_model('welcome_survey_clustering_pipeline_v1_model_szczepan_v1')"
   ]
  },
  {
   "cell_type": "markdown",
   "metadata": {},
   "source": [
    "aplikujemy model do danych"
   ]
  },
  {
   "cell_type": "code",
   "execution_count": 6,
   "metadata": {},
   "outputs": [
    {
     "data": {
      "text/plain": [
       "Cluster 0    50\n",
       "Cluster 1    34\n",
       "Cluster 6    28\n",
       "Cluster 2    23\n",
       "Cluster 3    21\n",
       "Cluster 4    18\n",
       "Cluster 7    17\n",
       "Cluster 8    16\n",
       "Cluster 5    13\n",
       "Cluster 9     9\n",
       "Name: Cluster, dtype: int64"
      ]
     },
     "execution_count": 6,
     "metadata": {},
     "output_type": "execute_result"
    }
   ],
   "source": [
    "df_with_clusters = predict_model(model=kmeans_pipeline, data=df)\n",
    "df_with_clusters[\"Cluster\"].value_counts()"
   ]
  },
  {
   "cell_type": "markdown",
   "metadata": {},
   "source": [
    "stworzymy teraz prompt, który prześlemy do LLM-a w celu znalezienia odpowiednich nazw i opisów dla klastrów"
   ]
  },
  {
   "cell_type": "code",
   "execution_count": 7,
   "metadata": {},
   "outputs": [],
   "source": [
    "cluster_descriptions = {}\n",
    "for cluster_id in df_with_clusters['Cluster'].unique():\n",
    "    cluster_df = df_with_clusters[df_with_clusters['Cluster'] == cluster_id]\n",
    "    summary = \"\"\n",
    "    for column in df_with_clusters:\n",
    "        if column == 'Cluster':\n",
    "            continue\n",
    "\n",
    "        value_counts = cluster_df[column].value_counts()\n",
    "        value_counts_str = ', '.join([f\"{idx}: {cnt}\" for idx, cnt in value_counts.items()])\n",
    "        summary += f\"{column} - {value_counts_str}\\n\"\n",
    "\n",
    "    cluster_descriptions[cluster_id] = summary"
   ]
  },
  {
   "cell_type": "code",
   "execution_count": 8,
   "metadata": {},
   "outputs": [
    {
     "name": "stdout",
     "output_type": "stream",
     "text": [
      "age - 35-44: 7, >=65: 2, 45-54: 1, 55-64: 1, <18: 1, unknown: 1, 18-24: 0, 25-34: 0\n",
      "edu_level - Wyższe: 12, Podstawowe: 1, Średnie: 0\n",
      "fav_animals - Brak ulubionych: 13, Inne: 0, Koty: 0, Koty i Psy: 0, Psy: 0\n",
      "fav_place - Nad wodą: 5, W lesie: 4, Inne: 0, W górach: 0\n",
      "gender - Mężczyzna: 8, Kobieta: 4\n",
      "\n"
     ]
    }
   ],
   "source": [
    "print(cluster_descriptions[\"Cluster 5\"])"
   ]
  },
  {
   "cell_type": "code",
   "execution_count": 9,
   "metadata": {},
   "outputs": [
    {
     "name": "stdout",
     "output_type": "stream",
     "text": [
      "Użyliśmy algorytmu klastrowania.\n",
      "\n",
      "Klaster Cluster 5:\n",
      "age - 35-44: 7, >=65: 2, 45-54: 1, 55-64: 1, <18: 1, unknown: 1, 18-24: 0, 25-34: 0\n",
      "edu_level - Wyższe: 12, Podstawowe: 1, Średnie: 0\n",
      "fav_animals - Brak ulubionych: 13, Inne: 0, Koty: 0, Koty i Psy: 0, Psy: 0\n",
      "fav_place - Nad wodą: 5, W lesie: 4, Inne: 0, W górach: 0\n",
      "gender - Mężczyzna: 8, Kobieta: 4\n",
      "\n",
      "\n",
      "Klaster Cluster 7:\n",
      "age - 35-44: 8, 45-54: 4, 18-24: 2, 25-34: 2, >=65: 1, 55-64: 0, <18: 0, unknown: 0\n",
      "edu_level - Średnie: 17, Podstawowe: 0, Wyższe: 0\n",
      "fav_animals - Psy: 13, Koty: 2, Brak ulubionych: 1, Inne: 1, Koty i Psy: 0\n",
      "fav_place - Nad wodą: 12, W lesie: 2, Inne: 0, W górach: 0\n",
      "gender - Mężczyzna: 12, Kobieta: 5\n",
      "\n",
      "\n",
      "Klaster Cluster 3:\n",
      "age - 45-54: 20, 55-64: 1, 18-24: 0, 25-34: 0, 35-44: 0, <18: 0, >=65: 0, unknown: 0\n",
      "edu_level - Wyższe: 21, Podstawowe: 0, Średnie: 0\n",
      "fav_animals - Psy: 11, Koty: 5, Inne: 4, Brak ulubionych: 1, Koty i Psy: 0\n",
      "fav_place - W lesie: 19, Inne: 2, Nad wodą: 0, W górach: 0\n",
      "gender - Mężczyzna: 17, Kobieta: 4\n",
      "\n",
      "\n",
      "Klaster Cluster 4:\n",
      "age - 18-24: 5, 45-54: 5, 25-34: 4, 35-44: 4, 55-64: 0, <18: 0, >=65: 0, unknown: 0\n",
      "edu_level - Średnie: 18, Podstawowe: 0, Wyższe: 0\n",
      "fav_animals - Psy: 7, Inne: 4, Koty: 4, Brak ulubionych: 3, Koty i Psy: 0\n",
      "fav_place - W górach: 18, Inne: 0, Nad wodą: 0, W lesie: 0\n",
      "gender - Mężczyzna: 16, Kobieta: 2\n",
      "\n",
      "\n",
      "Klaster Cluster 0:\n",
      "age - 35-44: 31, 55-64: 10, 25-34: 5, >=65: 2, 18-24: 1, unknown: 1, 45-54: 0, <18: 0\n",
      "edu_level - Wyższe: 50, Podstawowe: 0, Średnie: 0\n",
      "fav_animals - Psy: 36, Inne: 9, Koty: 4, Koty i Psy: 1, Brak ulubionych: 0\n",
      "fav_place - Nad wodą: 37, Inne: 1, W górach: 0, W lesie: 0\n",
      "gender - Mężczyzna: 38, Kobieta: 12\n",
      "\n",
      "\n",
      "Klaster Cluster 8:\n",
      "age - 25-34: 8, 35-44: 6, 55-64: 2, 18-24: 0, 45-54: 0, <18: 0, >=65: 0, unknown: 0\n",
      "edu_level - Wyższe: 16, Podstawowe: 0, Średnie: 0\n",
      "fav_animals - Psy: 14, Inne: 2, Brak ulubionych: 0, Koty: 0, Koty i Psy: 0\n",
      "fav_place - W lesie: 15, Inne: 1, Nad wodą: 0, W górach: 0\n",
      "gender - Mężczyzna: 12, Kobieta: 4\n",
      "\n",
      "\n",
      "Klaster Cluster 2:\n",
      "age - 35-44: 19, 25-34: 3, >=65: 1, 18-24: 0, 45-54: 0, 55-64: 0, <18: 0, unknown: 0\n",
      "edu_level - Wyższe: 23, Podstawowe: 0, Średnie: 0\n",
      "fav_animals - Koty: 11, Brak ulubionych: 4, Inne: 4, Koty i Psy: 2, Psy: 2\n",
      "fav_place - W górach: 21, Inne: 2, Nad wodą: 0, W lesie: 0\n",
      "gender - Mężczyzna: 14, Kobieta: 9\n",
      "\n",
      "\n",
      "Klaster Cluster 1:\n",
      "age - 45-54: 15, 25-34: 8, 35-44: 8, 18-24: 1, 55-64: 1, >=65: 1, <18: 0, unknown: 0\n",
      "edu_level - Wyższe: 34, Podstawowe: 0, Średnie: 0\n",
      "fav_animals - Psy: 25, Brak ulubionych: 4, Inne: 3, Koty: 2, Koty i Psy: 0\n",
      "fav_place - W górach: 34, Inne: 0, Nad wodą: 0, W lesie: 0\n",
      "gender - Mężczyzna: 27, Kobieta: 6\n",
      "\n",
      "\n",
      "Klaster Cluster 6:\n",
      "age - 45-54: 25, 25-34: 3, 18-24: 0, 35-44: 0, 55-64: 0, <18: 0, >=65: 0, unknown: 0\n",
      "edu_level - Wyższe: 28, Podstawowe: 0, Średnie: 0\n",
      "fav_animals - Psy: 15, Koty: 7, Inne: 3, Koty i Psy: 3, Brak ulubionych: 0\n",
      "fav_place - Nad wodą: 19, Inne: 0, W górach: 0, W lesie: 0\n",
      "gender - Mężczyzna: 18, Kobieta: 10\n",
      "\n",
      "\n",
      "Klaster Cluster 9:\n",
      "age - 25-34: 4, 45-54: 4, 18-24: 1, 35-44: 0, 55-64: 0, <18: 0, >=65: 0, unknown: 0\n",
      "edu_level - Średnie: 9, Podstawowe: 0, Wyższe: 0\n",
      "fav_animals - Koty: 6, Inne: 3, Brak ulubionych: 0, Koty i Psy: 0, Psy: 0\n",
      "fav_place - W lesie: 5, Inne: 3, Nad wodą: 0, W górach: 0\n",
      "gender - Mężczyzna: 9, Kobieta: 0\n",
      "\n",
      "Wygeneruj najlepsze nazwy dla każdego z klasterów oraz ich opisy\n",
      "\n",
      "Użyj formatu JSON. Przykładowo:\n",
      "{\n",
      "    \"Cluster 0\": {\n",
      "        \"name\": \"Klaster 0\",\n",
      "        \"description\": \"W tym klastrze znajdują się osoby, które...\"\n",
      "    },\n",
      "    \"Cluster 1\": {\n",
      "        \"name\": \"Klaster 1\",\n",
      "        \"description\": \"W tym klastrze znajdują się osoby, które...\"\n",
      "    }\n",
      "}\n",
      "\n"
     ]
    }
   ],
   "source": [
    "prompt = \"Użyliśmy algorytmu klastrowania.\"\n",
    "for cluster_id, description in cluster_descriptions.items():\n",
    "    prompt += f\"\\n\\nKlaster {cluster_id}:\\n{description}\"\n",
    "\n",
    "prompt += \"\"\"\n",
    "Wygeneruj najlepsze nazwy dla każdego z klasterów oraz ich opisy\n",
    "\n",
    "Użyj formatu JSON. Przykładowo:\n",
    "{\n",
    "    \"Cluster 0\": {\n",
    "        \"name\": \"Klaster 0\",\n",
    "        \"description\": \"W tym klastrze znajdują się osoby, które...\"\n",
    "    },\n",
    "    \"Cluster 1\": {\n",
    "        \"name\": \"Klaster 1\",\n",
    "        \"description\": \"W tym klastrze znajdują się osoby, które...\"\n",
    "    }\n",
    "}\n",
    "\"\"\"\n",
    "print(prompt)"
   ]
  },
  {
   "cell_type": "code",
   "execution_count": 10,
   "metadata": {},
   "outputs": [],
   "source": [
    "response = openai_client.chat.completions.create(\n",
    "    model=\"gpt-4o\",\n",
    "    temperature=0,\n",
    "    messages=[\n",
    "        {\n",
    "            \"role\": \"user\",\n",
    "            \"content\": [{\"type\": \"text\", \"text\": prompt}],\n",
    "        }\n",
    "    ],\n",
    ")"
   ]
  },
  {
   "cell_type": "code",
   "execution_count": 21,
   "metadata": {},
   "outputs": [],
   "source": [
    "result = response.choices[0].message.content.replace(\"```json\", \"\").replace(\"```\", \"\").strip()\n",
    "cluster_names_and_descriptions_szv1 = json.loads(result)"
   ]
  },
  {
   "cell_type": "code",
   "execution_count": 22,
   "metadata": {},
   "outputs": [],
   "source": [
    "with open(\"welcome_survey_cluster_names_and_descriptions_szv1.json\", \"w\") as f:\n",
    "    f.write(json.dumps(cluster_names_and_descriptions))"
   ]
  },
  {
   "cell_type": "code",
   "execution_count": 23,
   "metadata": {},
   "outputs": [
    {
     "name": "stdout",
     "output_type": "stream",
     "text": [
      "{'Cluster 0': {'name': 'Wodni Miłośnicy Psów z Wyższym Wykształceniem', 'description': 'W tym klastrze znajdują się osoby, które preferują spędzanie czasu nad wodą, mają wyższe wykształcenie i najczęściej wybierają psy jako ulubione zwierzęta. Większość z nich to mężczyźni w wieku 35-44 lat.'}, 'Cluster 1': {'name': 'Górscy Profesjonaliści', 'description': 'W tym klastrze znajdują się osoby z wyższym wykształceniem, które preferują góry jako miejsce wypoczynku. Większość z nich to mężczyźni w wieku 45-54 lat, a ich ulubionymi zwierzętami są psy.'}, 'Cluster 2': {'name': 'Koci Miłośnicy Gór', 'description': 'W tym klastrze znajdują się osoby z wyższym wykształceniem, które preferują góry i mają skłonność do wybierania kotów jako ulubionych zwierząt. Większość z nich to mężczyźni w wieku 35-44 lat.'}, 'Cluster 3': {'name': 'Leśni Profesjonaliści', 'description': 'W tym klastrze znajdują się osoby z wyższym wykształceniem, które preferują lasy jako miejsce wypoczynku. Większość z nich to mężczyźni w wieku 45-54 lat, a ich ulubionymi zwierzętami są psy.'}, 'Cluster 4': {'name': 'Górscy Entuzjaści ze Średnim Wykształceniem', 'description': 'W tym klastrze znajdują się osoby ze średnim wykształceniem, które preferują góry jako miejsce wypoczynku. Większość z nich to mężczyźni w różnym wieku, a ich ulubionymi zwierzętami są psy, koty lub inne zwierzęta.'}, 'Cluster 5': {'name': 'Wodni Samotni z Wyższym Wykształceniem', 'description': 'W tym klastrze znajdują się osoby z wyższym wykształceniem, które preferują spędzanie czasu nad wodą, ale nie mają ulubionych zwierząt. Większość z nich to mężczyźni w wieku 35-44 lat.'}, 'Cluster 6': {'name': 'Wodni Miłośnicy Psów i Kotów', 'description': 'W tym klastrze znajdują się osoby z wyższym wykształceniem, które preferują spędzanie czasu nad wodą i mają skłonność do wybierania psów i kotów jako ulubionych zwierząt. Większość z nich to mężczyźni w wieku 45-54 lat.'}, 'Cluster 7': {'name': 'Wodni Miłośnicy Psów ze Średnim Wykształceniem', 'description': 'W tym klastrze znajdują się osoby ze średnim wykształceniem, które preferują spędzanie czasu nad wodą i mają skłonność do wybierania psów jako ulubionych zwierząt. Większość z nich to mężczyźni w wieku 35-44 lat.'}, 'Cluster 8': {'name': 'Leśni Miłośnicy Psów z Wyższym Wykształceniem', 'description': 'W tym klastrze znajdują się osoby z wyższym wykształceniem, które preferują lasy jako miejsce wypoczynku i mają skłonność do wybierania psów jako ulubionych zwierząt. Większość z nich to mężczyźni w wieku 25-34 lat.'}, 'Cluster 9': {'name': 'Leśni Miłośnicy Kotów ze Średnim Wykształceniem', 'description': 'W tym klastrze znajdują się osoby ze średnim wykształceniem, które preferują lasy jako miejsce wypoczynku i mają skłonność do wybierania kotów jako ulubionych zwierząt. Wszyscy członkowie tego klastra to mężczyźni.'}}\n"
     ]
    }
   ],
   "source": [
    "with open(\"welcome_survey_cluster_names_and_descriptions_szv1.json\", \"r\") as f:\n",
    "    print(json.loads(f.read()))"
   ]
  },
  {
   "cell_type": "code",
   "execution_count": null,
   "metadata": {},
   "outputs": [],
   "source": []
  }
 ],
 "metadata": {
  "kernelspec": {
   "display_name": "Python 3 (ipykernel)",
   "language": "python",
   "name": "python3"
  },
  "language_info": {
   "codemirror_mode": {
    "name": "ipython",
    "version": 3
   },
   "file_extension": ".py",
   "mimetype": "text/x-python",
   "name": "python",
   "nbconvert_exporter": "python",
   "pygments_lexer": "ipython3",
   "version": "3.11.13"
  }
 },
 "nbformat": 4,
 "nbformat_minor": 4
}
